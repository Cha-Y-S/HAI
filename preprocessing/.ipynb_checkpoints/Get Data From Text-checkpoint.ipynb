{
 "cells": [
  {
   "cell_type": "code",
   "execution_count": 1,
   "id": "contemporary-jamaica",
   "metadata": {},
   "outputs": [],
   "source": [
    "import pandas as pd"
   ]
  },
  {
   "cell_type": "code",
   "execution_count": 2,
   "id": "cultural-trader",
   "metadata": {},
   "outputs": [],
   "source": [
    "arr = []"
   ]
  },
  {
   "cell_type": "code",
   "execution_count": 15,
   "id": "honest-massachusetts",
   "metadata": {
    "scrolled": false
   },
   "outputs": [],
   "source": [
    "i = 0\n",
    "\n",
    "while(True):\n",
    "    try:\n",
    "        if (i == 0):\n",
    "            f = open(\"C:\\\\Users\\\\tjdal\\\\Downloads\\\\data.txt\", 'r')\n",
    "            arr.append(f.readline())\n",
    "        else:\n",
    "            f = open(\"C:\\\\Users\\\\tjdal\\\\Downloads\\\\data ({}).txt\".format(i), 'r')\n",
    "            arr.append(f.readline())\n",
    "        i += 1\n",
    "    except:\n",
    "        break\n",
    "f.close()"
   ]
  },
  {
   "cell_type": "code",
   "execution_count": 16,
   "id": "metallic-release",
   "metadata": {},
   "outputs": [],
   "source": [
    "df = pd.DataFrame(arr)"
   ]
  },
  {
   "cell_type": "code",
   "execution_count": 17,
   "id": "second-finland",
   "metadata": {},
   "outputs": [
    {
     "data": {
      "text/html": [
       "<div>\n",
       "<style scoped>\n",
       "    .dataframe tbody tr th:only-of-type {\n",
       "        vertical-align: middle;\n",
       "    }\n",
       "\n",
       "    .dataframe tbody tr th {\n",
       "        vertical-align: top;\n",
       "    }\n",
       "\n",
       "    .dataframe thead th {\n",
       "        text-align: right;\n",
       "    }\n",
       "</style>\n",
       "<table border=\"1\" class=\"dataframe\">\n",
       "  <thead>\n",
       "    <tr style=\"text-align: right;\">\n",
       "      <th></th>\n",
       "      <th>0</th>\n",
       "    </tr>\n",
       "  </thead>\n",
       "  <tbody>\n",
       "    <tr>\n",
       "      <th>0</th>\n",
       "      <td>313.05938720703125,350.0303649902344,-9.099099...</td>\n",
       "    </tr>\n",
       "    <tr>\n",
       "      <th>1</th>\n",
       "      <td>319.6861877441406,334.2759704589844,-14.294747...</td>\n",
       "    </tr>\n",
       "    <tr>\n",
       "      <th>2</th>\n",
       "      <td>320.7561950683594,340.4932556152344,-14.969228...</td>\n",
       "    </tr>\n",
       "    <tr>\n",
       "      <th>3</th>\n",
       "      <td>324.42877197265625,324.77130126953125,-19.2335...</td>\n",
       "    </tr>\n",
       "    <tr>\n",
       "      <th>4</th>\n",
       "      <td>317.93377685546875,333.7342529296875,-11.28937...</td>\n",
       "    </tr>\n",
       "    <tr>\n",
       "      <th>...</th>\n",
       "      <td>...</td>\n",
       "    </tr>\n",
       "    <tr>\n",
       "      <th>500</th>\n",
       "      <td>321.7032470703125,337.7916564941406,-15.063871...</td>\n",
       "    </tr>\n",
       "    <tr>\n",
       "      <th>501</th>\n",
       "      <td>311.54266357421875,352.1099548339844,-13.05161...</td>\n",
       "    </tr>\n",
       "    <tr>\n",
       "      <th>502</th>\n",
       "      <td>320.305419921875,343.4136962890625,-9.70402145...</td>\n",
       "    </tr>\n",
       "    <tr>\n",
       "      <th>503</th>\n",
       "      <td>325.5719909667969,319.3226623535156,-22.182332...</td>\n",
       "    </tr>\n",
       "    <tr>\n",
       "      <th>504</th>\n",
       "      <td>325.0585632324219,332.65740966796875,-11.77759...</td>\n",
       "    </tr>\n",
       "  </tbody>\n",
       "</table>\n",
       "<p>505 rows × 1 columns</p>\n",
       "</div>"
      ],
      "text/plain": [
       "                                                     0\n",
       "0    313.05938720703125,350.0303649902344,-9.099099...\n",
       "1    319.6861877441406,334.2759704589844,-14.294747...\n",
       "2    320.7561950683594,340.4932556152344,-14.969228...\n",
       "3    324.42877197265625,324.77130126953125,-19.2335...\n",
       "4    317.93377685546875,333.7342529296875,-11.28937...\n",
       "..                                                 ...\n",
       "500  321.7032470703125,337.7916564941406,-15.063871...\n",
       "501  311.54266357421875,352.1099548339844,-13.05161...\n",
       "502  320.305419921875,343.4136962890625,-9.70402145...\n",
       "503  325.5719909667969,319.3226623535156,-22.182332...\n",
       "504  325.0585632324219,332.65740966796875,-11.77759...\n",
       "\n",
       "[505 rows x 1 columns]"
      ]
     },
     "execution_count": 17,
     "metadata": {},
     "output_type": "execute_result"
    }
   ],
   "source": [
    "df"
   ]
  },
  {
   "cell_type": "code",
   "execution_count": null,
   "id": "detected-israeli",
   "metadata": {},
   "outputs": [],
   "source": []
  }
 ],
 "metadata": {
  "kernelspec": {
   "display_name": "Python 3",
   "language": "python",
   "name": "python3"
  },
  "language_info": {
   "codemirror_mode": {
    "name": "ipython",
    "version": 3
   },
   "file_extension": ".py",
   "mimetype": "text/x-python",
   "name": "python",
   "nbconvert_exporter": "python",
   "pygments_lexer": "ipython3",
   "version": "3.7.8"
  }
 },
 "nbformat": 4,
 "nbformat_minor": 5
}
