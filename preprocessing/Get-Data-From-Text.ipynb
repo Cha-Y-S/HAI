{
 "cells": [
  {
   "cell_type": "code",
   "execution_count": 1,
   "id": "contemporary-jamaica",
   "metadata": {},
   "outputs": [],
   "source": [
    "import pandas as pd"
   ]
  },
  {
   "cell_type": "code",
   "execution_count": 2,
   "id": "cultural-trader",
   "metadata": {},
   "outputs": [],
   "source": [
    "arr = []"
   ]
  },
  {
   "cell_type": "code",
   "execution_count": null,
   "id": "honest-massachusetts",
   "metadata": {
    "scrolled": false
   },
   "outputs": [],
   "source": [
    "# 파일명.txt로 뽑힐 때의 버전\n",
    "i = 0\n",
    "\n",
    "while(True):\n",
    "    try:\n",
    "        if (i < 10):\n",
    "            f = open(\"0000{}.txt\".format(i), 'r')\n",
    "            arr.append(f.readline())\n",
    "        elif (i < 100):\n",
    "            f = open(\"000{}.txt\".format(i), 'r')\n",
    "            arr.append(f.readline())\n",
    "        elif (i < 1000):\n",
    "            f = open(\"00{}.txt\".format(i), 'r')\n",
    "            arr.append(f.readline())\n",
    "        elif (i < 10000):\n",
    "            f = open(\"0{}.txt\".format(i), 'r')\n",
    "            arr.append(f.readline())\n",
    "        elif (i < 75000):\n",
    "            f = open(\"{}.txt\".format(i), 'r')\n",
    "            arr.append(f.readline())\n",
    "        else:\n",
    "            break\n",
    "        i += 1\n",
    "    except:\n",
    "        continue\n",
    "f.close()"
   ]
  },
  {
   "cell_type": "code",
   "execution_count": 3,
   "id": "cutting-military",
   "metadata": {},
   "outputs": [],
   "source": [
    "# data.txt로 뽑힐 때의 버전\n",
    "\n",
    "i = 0\n",
    "while(True):\n",
    "    try:\n",
    "        if (i == 0):\n",
    "            f = open(\"data.txt\", 'r')\n",
    "            arr.append(f.readline())\n",
    "        else:\n",
    "            f = open(\"data ({}).txt\".format(i), 'r')\n",
    "            arr.append(f.readline())\n",
    "        i += 1\n",
    "    except:\n",
    "        break\n",
    "f.close()"
   ]
  },
  {
   "cell_type": "code",
   "execution_count": 4,
   "id": "metallic-release",
   "metadata": {},
   "outputs": [],
   "source": [
    "df = pd.DataFrame(arr)"
   ]
  },
  {
   "cell_type": "code",
   "execution_count": 5,
   "id": "second-finland",
   "metadata": {},
   "outputs": [
    {
     "data": {
      "text/html": [
       "<div>\n",
       "<style scoped>\n",
       "    .dataframe tbody tr th:only-of-type {\n",
       "        vertical-align: middle;\n",
       "    }\n",
       "\n",
       "    .dataframe tbody tr th {\n",
       "        vertical-align: top;\n",
       "    }\n",
       "\n",
       "    .dataframe thead th {\n",
       "        text-align: right;\n",
       "    }\n",
       "</style>\n",
       "<table border=\"1\" class=\"dataframe\">\n",
       "  <thead>\n",
       "    <tr style=\"text-align: right;\">\n",
       "      <th></th>\n",
       "      <th>0</th>\n",
       "    </tr>\n",
       "  </thead>\n",
       "  <tbody>\n",
       "    <tr>\n",
       "      <th>0</th>\n",
       "      <td>322.8525695800781,117.72525024414062,7.2192802...</td>\n",
       "    </tr>\n",
       "    <tr>\n",
       "      <th>1</th>\n",
       "      <td>316.5731201171875,118.24846649169922,6.1882324...</td>\n",
       "    </tr>\n",
       "    <tr>\n",
       "      <th>2</th>\n",
       "      <td>316.2164306640625,132.6868438720703,-13.174918...</td>\n",
       "    </tr>\n",
       "    <tr>\n",
       "      <th>3</th>\n",
       "      <td>317.718017578125,120.55618286132812,-17.941429...</td>\n",
       "    </tr>\n",
       "    <tr>\n",
       "      <th>4</th>\n",
       "      <td>314.1623229980469,132.9160919189453,-3.2316868...</td>\n",
       "    </tr>\n",
       "    <tr>\n",
       "      <th>...</th>\n",
       "      <td>...</td>\n",
       "    </tr>\n",
       "    <tr>\n",
       "      <th>96</th>\n",
       "      <td>315.13323974609375,127.19055938720703,-9.81531...</td>\n",
       "    </tr>\n",
       "    <tr>\n",
       "      <th>97</th>\n",
       "      <td>323.05535888671875,115.9223861694336,-0.814285...</td>\n",
       "    </tr>\n",
       "    <tr>\n",
       "      <th>98</th>\n",
       "      <td>317.007568359375,117.48397064208984,-3.8705859...</td>\n",
       "    </tr>\n",
       "    <tr>\n",
       "      <th>99</th>\n",
       "      <td>318.6416320800781,110.84397888183594,-14.12328...</td>\n",
       "    </tr>\n",
       "    <tr>\n",
       "      <th>100</th>\n",
       "      <td>319.9682922363281,133.80133056640625,-11.73374...</td>\n",
       "    </tr>\n",
       "  </tbody>\n",
       "</table>\n",
       "<p>101 rows × 1 columns</p>\n",
       "</div>"
      ],
      "text/plain": [
       "                                                     0\n",
       "0    322.8525695800781,117.72525024414062,7.2192802...\n",
       "1    316.5731201171875,118.24846649169922,6.1882324...\n",
       "2    316.2164306640625,132.6868438720703,-13.174918...\n",
       "3    317.718017578125,120.55618286132812,-17.941429...\n",
       "4    314.1623229980469,132.9160919189453,-3.2316868...\n",
       "..                                                 ...\n",
       "96   315.13323974609375,127.19055938720703,-9.81531...\n",
       "97   323.05535888671875,115.9223861694336,-0.814285...\n",
       "98   317.007568359375,117.48397064208984,-3.8705859...\n",
       "99   318.6416320800781,110.84397888183594,-14.12328...\n",
       "100  319.9682922363281,133.80133056640625,-11.73374...\n",
       "\n",
       "[101 rows x 1 columns]"
      ]
     },
     "execution_count": 5,
     "metadata": {},
     "output_type": "execute_result"
    }
   ],
   "source": [
    "df"
   ]
  },
  {
   "cell_type": "code",
   "execution_count": 6,
   "id": "detected-israeli",
   "metadata": {},
   "outputs": [],
   "source": [
    "df.to_csv(\"rect.csv\", mode='w')"
   ]
  },
  {
   "cell_type": "code",
   "execution_count": null,
   "id": "secret-amendment",
   "metadata": {},
   "outputs": [],
   "source": []
  }
 ],
 "metadata": {
  "kernelspec": {
   "display_name": "Python 3",
   "language": "python",
   "name": "python3"
  },
  "language_info": {
   "codemirror_mode": {
    "name": "ipython",
    "version": 3
   },
   "file_extension": ".py",
   "mimetype": "text/x-python",
   "name": "python",
   "nbconvert_exporter": "python",
   "pygments_lexer": "ipython3",
   "version": "3.7.8"
  }
 },
 "nbformat": 4,
 "nbformat_minor": 5
}
