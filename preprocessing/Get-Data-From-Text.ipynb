{
 "cells": [
  {
   "cell_type": "code",
   "execution_count": 1,
   "metadata": {},
   "outputs": [],
   "source": [
    "import pandas as pd"
   ]
  },
  {
   "cell_type": "code",
   "execution_count": 7,
   "metadata": {},
   "outputs": [],
   "source": [
    "arr = []"
   ]
  },
  {
   "cell_type": "code",
   "execution_count": null,
   "metadata": {
    "scrolled": false
   },
   "outputs": [],
   "source": [
    "# 파일명.txt로 뽑힐 때의 버전\n",
    "i = 0\n",
    "\n",
    "while(True):\n",
    "    try:\n",
    "        if (i < 10):\n",
    "            f = open(\"0000{}.txt\".format(i), 'r')\n",
    "            arr.append(f.readline())\n",
    "        elif (i < 100):\n",
    "            f = open(\"000{}.txt\".format(i), 'r')\n",
    "            arr.append(f.readline())\n",
    "        elif (i < 1000):\n",
    "            f = open(\"00{}.txt\".format(i), 'r')\n",
    "            arr.append(f.readline())\n",
    "        elif (i < 10000):\n",
    "            f = open(\"0{}.txt\".format(i), 'r')\n",
    "            arr.append(f.readline())\n",
    "        elif (i < 75000):\n",
    "            f = open(\"{}.txt\".format(i), 'r')\n",
    "            arr.append(f.readline())\n",
    "        else:\n",
    "            break\n",
    "        i += 1\n",
    "    except:\n",
    "        continue\n",
    "f.close()"
   ]
  },
  {
   "cell_type": "code",
   "execution_count": 8,
   "metadata": {},
   "outputs": [],
   "source": [
    "# data.txt로 뽑힐 때의 버전\n",
    "\n",
    "i = 0\n",
    "while(True):\n",
    "    try:\n",
    "        if (i == 0):\n",
    "            f = open(\"data.txt\", 'r')\n",
    "            arr.append(f.readline())\n",
    "        else:\n",
    "            f = open(\"data ({}).txt\".format(i), 'r')\n",
    "            arr.append(f.readline())\n",
    "        i += 1\n",
    "    except:\n",
    "        break\n",
    "f.close()"
   ]
  },
  {
   "cell_type": "code",
   "execution_count": 9,
   "metadata": {},
   "outputs": [],
   "source": [
    "df = pd.DataFrame(arr)"
   ]
  },
  {
   "cell_type": "code",
   "execution_count": 10,
   "metadata": {},
   "outputs": [
    {
     "data": {
      "text/html": [
       "<div>\n",
       "<style scoped>\n",
       "    .dataframe tbody tr th:only-of-type {\n",
       "        vertical-align: middle;\n",
       "    }\n",
       "\n",
       "    .dataframe tbody tr th {\n",
       "        vertical-align: top;\n",
       "    }\n",
       "\n",
       "    .dataframe thead th {\n",
       "        text-align: right;\n",
       "    }\n",
       "</style>\n",
       "<table border=\"1\" class=\"dataframe\">\n",
       "  <thead>\n",
       "    <tr style=\"text-align: right;\">\n",
       "      <th></th>\n",
       "      <th>0</th>\n",
       "    </tr>\n",
       "  </thead>\n",
       "  <tbody>\n",
       "    <tr>\n",
       "      <th>0</th>\n",
       "      <td>165.72535705566406,236.93824768066406,183.8832...</td>\n",
       "    </tr>\n",
       "    <tr>\n",
       "      <th>1</th>\n",
       "      <td>164.89459228515625,238.39984130859375,184.7095...</td>\n",
       "    </tr>\n",
       "    <tr>\n",
       "      <th>2</th>\n",
       "      <td>165.72535705566406,236.93824768066406,183.8832...</td>\n",
       "    </tr>\n",
       "    <tr>\n",
       "      <th>3</th>\n",
       "      <td>164.89459228515625,238.39984130859375,184.7095...</td>\n",
       "    </tr>\n",
       "    <tr>\n",
       "      <th>4</th>\n",
       "      <td>165.72535705566406,236.93824768066406,183.8832...</td>\n",
       "    </tr>\n",
       "    <tr>\n",
       "      <th>5</th>\n",
       "      <td>164.89459228515625,238.39984130859375,184.7095...</td>\n",
       "    </tr>\n",
       "    <tr>\n",
       "      <th>6</th>\n",
       "      <td>211.91297912597656,162.76708984375,236.1171417...</td>\n",
       "    </tr>\n",
       "    <tr>\n",
       "      <th>7</th>\n",
       "      <td>185.82398986816406,204.27908325195312,202.8289...</td>\n",
       "    </tr>\n",
       "    <tr>\n",
       "      <th>8</th>\n",
       "      <td>211.91297912597656,162.76708984375,236.1171417...</td>\n",
       "    </tr>\n",
       "    <tr>\n",
       "      <th>9</th>\n",
       "      <td>185.82398986816406,204.27908325195312,202.8289...</td>\n",
       "    </tr>\n",
       "    <tr>\n",
       "      <th>10</th>\n",
       "      <td>211.91297912597656,162.76708984375,236.1171417...</td>\n",
       "    </tr>\n",
       "    <tr>\n",
       "      <th>11</th>\n",
       "      <td>185.82398986816406,204.27908325195312,202.8289...</td>\n",
       "    </tr>\n",
       "  </tbody>\n",
       "</table>\n",
       "</div>"
      ],
      "text/plain": [
       "                                                    0\n",
       "0   165.72535705566406,236.93824768066406,183.8832...\n",
       "1   164.89459228515625,238.39984130859375,184.7095...\n",
       "2   165.72535705566406,236.93824768066406,183.8832...\n",
       "3   164.89459228515625,238.39984130859375,184.7095...\n",
       "4   165.72535705566406,236.93824768066406,183.8832...\n",
       "5   164.89459228515625,238.39984130859375,184.7095...\n",
       "6   211.91297912597656,162.76708984375,236.1171417...\n",
       "7   185.82398986816406,204.27908325195312,202.8289...\n",
       "8   211.91297912597656,162.76708984375,236.1171417...\n",
       "9   185.82398986816406,204.27908325195312,202.8289...\n",
       "10  211.91297912597656,162.76708984375,236.1171417...\n",
       "11  185.82398986816406,204.27908325195312,202.8289..."
      ]
     },
     "execution_count": 10,
     "metadata": {},
     "output_type": "execute_result"
    }
   ],
   "source": [
    "df"
   ]
  },
  {
   "cell_type": "code",
   "execution_count": 11,
   "metadata": {},
   "outputs": [],
   "source": [
    "df.to_csv(\"egg.csv\", mode='w')"
   ]
  },
  {
   "cell_type": "code",
   "execution_count": null,
   "metadata": {},
   "outputs": [],
   "source": []
  }
 ],
 "metadata": {
  "kernelspec": {
   "display_name": "Python 3",
   "language": "python",
   "name": "python3"
  },
  "language_info": {
   "codemirror_mode": {
    "name": "ipython",
    "version": 3
   },
   "file_extension": ".py",
   "mimetype": "text/x-python",
   "name": "python",
   "nbconvert_exporter": "python",
   "pygments_lexer": "ipython3",
   "version": "3.7.6"
  }
 },
 "nbformat": 4,
 "nbformat_minor": 5
}
